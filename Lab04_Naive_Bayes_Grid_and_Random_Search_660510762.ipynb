{
  "cells": [
    {
      "cell_type": "markdown",
      "metadata": {
        "id": "view-in-github",
        "colab_type": "text"
      },
      "source": [
        "<a href=\"https://colab.research.google.com/github/660510762-Chidsanupong/660510762-Chidsanupong/blob/main/Lab04_Naive_Bayes_Grid_and_Random_Search_660510762.ipynb\" target=\"_parent\"><img src=\"https://colab.research.google.com/assets/colab-badge.svg\" alt=\"Open In Colab\"/></a>"
      ]
    },
    {
      "cell_type": "markdown",
      "id": "e9252fd0-8fb3-4237-a32c-d2ae904aeba1",
      "metadata": {
        "id": "e9252fd0-8fb3-4237-a32c-d2ae904aeba1"
      },
      "source": [
        "### Statistical Learning for Data Science 2 (229352)\n",
        "#### Instructor: Donlapark Ponnoprat\n",
        "\n",
        "#### [Course website](https://donlapark.pages.dev/229352/)\n",
        "\n",
        "## Lab #4"
      ]
    },
    {
      "cell_type": "markdown",
      "source": [
        "## 660510762 ชิษณุพงศ์ การะเกตุ"
      ],
      "metadata": {
        "id": "rsOliewshm9T"
      },
      "id": "rsOliewshm9T"
    },
    {
      "cell_type": "code",
      "execution_count": 1,
      "id": "70b30d42-2935-4d97-afb4-51b444e01360",
      "metadata": {
        "id": "70b30d42-2935-4d97-afb4-51b444e01360"
      },
      "outputs": [],
      "source": [
        "from sklearn.datasets import fetch_20newsgroups\n",
        "from sklearn.feature_extraction.text import TfidfVectorizer\n",
        "from sklearn.metrics import classification_report\n",
        "from sklearn.model_selection import GridSearchCV, RandomizedSearchCV\n",
        "\n",
        "from sklearn.naive_bayes import MultinomialNB\n",
        "from sklearn.pipeline import Pipeline\n",
        "\n",
        "from scipy.stats import uniform"
      ]
    },
    {
      "cell_type": "code",
      "execution_count": 2,
      "id": "b4116b7d-ca3e-4e82-8452-ec6b220bb328",
      "metadata": {
        "id": "b4116b7d-ca3e-4e82-8452-ec6b220bb328",
        "outputId": "792da486-3276-4741-a9db-bc9965aba62e",
        "colab": {
          "base_uri": "https://localhost:8080/"
        }
      },
      "outputs": [
        {
          "output_type": "stream",
          "name": "stdout",
          "text": [
            "X: 500\n",
            "y: 500\n"
          ]
        }
      ],
      "source": [
        "train = fetch_20newsgroups(subset='train')\n",
        "test = fetch_20newsgroups(subset='test')\n",
        "\n",
        "Xtrain = train.data[:3000]\n",
        "ytrain = train.target[:3000]\n",
        "Xtest = test.data[:500]\n",
        "ytest = test.target[:500]\n",
        "\n",
        "print(\"X:\", len(Xtest))\n",
        "print(\"y:\", len(ytest))"
      ]
    },
    {
      "cell_type": "markdown",
      "id": "452ca0da-2658-4daa-85be-d42ea298fe07",
      "metadata": {
        "id": "452ca0da-2658-4daa-85be-d42ea298fe07"
      },
      "source": [
        "### Naive Bayes [(Documentation)](https://scikit-learn.org/stable/modules/generated/sklearn.naive_bayes.MultinomialNB.html)"
      ]
    },
    {
      "cell_type": "code",
      "execution_count": 3,
      "id": "1a2cb016-1e96-44e8-8c64-823ad825afd9",
      "metadata": {
        "id": "1a2cb016-1e96-44e8-8c64-823ad825afd9",
        "colab": {
          "base_uri": "https://localhost:8080/"
        },
        "outputId": "64b1e2fa-9e37-400e-a35e-31c6cea39185"
      },
      "outputs": [
        {
          "output_type": "stream",
          "name": "stdout",
          "text": [
            "Best alpha: 0.01\n",
            "f1_macro score on test set: 0.7725871193182322\n"
          ]
        }
      ],
      "source": [
        "# Create a pipeline with TF-IDF vectorizer and Multinomial Naive Bayes classifier\n",
        "pipeline = Pipeline([\n",
        "    ('tfidf', TfidfVectorizer()),\n",
        "    ('mnb', MultinomialNB())\n",
        "])\n",
        "\n",
        "# Define the parameter grid for alpha\n",
        "param_grid = {'mnb__alpha': [0.01, 0.1, 0.5, 1.0, 2.0]}\n",
        "\n",
        "# Perform GridSearchCV\n",
        "grid_search = GridSearchCV(pipeline, param_grid, cv=5, scoring='f1_macro')\n",
        "grid_search.fit(Xtrain, ytrain)\n",
        "\n",
        "# Print the best alpha and the corresponding f1_macro score on the test set\n",
        "print(\"Best alpha:\", grid_search.best_params_['mnb__alpha'])\n",
        "print(\"f1_macro score on test set:\", grid_search.score(Xtest, ytest))"
      ]
    },
    {
      "cell_type": "markdown",
      "id": "90fe0d6a-bb47-40ba-8660-c1af8f35eeb9",
      "metadata": {
        "id": "90fe0d6a-bb47-40ba-8660-c1af8f35eeb9"
      },
      "source": [
        "### Random Search Cross-Validation [(Documentation)](https://scikit-learn.org/stable/modules/generated/sklearn.model_selection.RandomizedSearchCV.html)\n",
        "\n",
        "### Uniform distribution in `Scipy` [(Documentation)](https://docs.scipy.org/doc/scipy/reference/generated/scipy.stats.uniform.html)"
      ]
    },
    {
      "cell_type": "code",
      "execution_count": 4,
      "id": "73f44229-8e90-40ad-b1e7-827597dba207",
      "metadata": {
        "id": "73f44229-8e90-40ad-b1e7-827597dba207",
        "colab": {
          "base_uri": "https://localhost:8080/"
        },
        "outputId": "916bf577-9483-446b-fe0a-bc98855995ea"
      },
      "outputs": [
        {
          "output_type": "stream",
          "name": "stdout",
          "text": [
            "Best alpha: 0.11616722433639892\n",
            "f1_macro score on test set: 0.7103431960621382\n"
          ]
        }
      ],
      "source": [
        "# Define the parameter distribution for alpha using a uniform distribution\n",
        "param_dist = {'mnb__alpha': uniform(loc=0, scale=2.0)} # Using scale=2.0 as an example range\n",
        "\n",
        "# Perform RandomizedSearchCV\n",
        "random_search = RandomizedSearchCV(pipeline, param_dist, n_iter=10, cv=5, scoring='f1_macro', random_state=42)\n",
        "random_search.fit(Xtrain, ytrain)\n",
        "\n",
        "# Print the best alpha and the corresponding f1_macro score on the test set\n",
        "print(\"Best alpha:\", random_search.best_params_['mnb__alpha'])\n",
        "print(\"f1_macro score on test set:\", random_search.score(Xtest, ytest))"
      ]
    },
    {
      "cell_type": "markdown",
      "id": "74f7ad65-0b56-4987-9493-c5f06a7f481b",
      "metadata": {
        "id": "74f7ad65-0b56-4987-9493-c5f06a7f481b"
      },
      "source": [
        "#### Exercise\n",
        "\n",
        "1. For the Naive Bayes model, use grid search 5-fold cross-validation across different values of `alpha` to find the best model.\n",
        "\n",
        "2. For the best value of `alpha`, compute the `f1_macro` score on the test set.\n",
        "* What value of `alpha` did you obtain?\n",
        "* What is the model's `f1_macro` score?\n",
        "\n",
        "3. Repeat Exercise 1 and 2 for **random search** 5-fold cross validation across different values of `alpha`. Compute the `f1_macro` score on the test set.\n",
        "* What value of `alpha` did you obtain?\n",
        "* Did you get a better `f1_macro` score compared to grid search in Exercise 2?"
      ]
    },
    {
      "cell_type": "code",
      "source": [
        "from sklearn.datasets import fetch_20newsgroups\n",
        "from sklearn.feature_extraction.text import TfidfVectorizer\n",
        "from sklearn.naive_bayes import MultinomialNB\n",
        "from sklearn.pipeline import Pipeline\n",
        "from sklearn.model_selection import GridSearchCV, RandomizedSearchCV\n",
        "from sklearn.metrics import f1_score\n",
        "from scipy.stats import uniform\n",
        "\n",
        "# สร้าง Pipeline\n",
        "pipe = Pipeline([\n",
        "    ('tfidf', TfidfVectorizer()),\n",
        "    ('mnb', MultinomialNB())\n",
        "])\n",
        "\n",
        "# --- Exercise 1: GridSearchCV ---\n",
        "param_grid = {'mnb__alpha': [0.01, 0.1, 0.5, 1.0, 2.0]}\n",
        "grid = GridSearchCV(pipe, param_grid, cv=5, scoring='f1_macro')\n",
        "grid.fit(Xtrain, ytrain)\n",
        "\n",
        "# ทำนายและคำนวณ f1_macro บน test set\n",
        "y_pred_grid = grid.predict(Xtest)\n",
        "f1_grid = f1_score(ytest, y_pred_grid, average='macro')\n",
        "\n",
        "print(\"Grid Search\")\n",
        "print(\"Best alpha:\", grid.best_params_['mnb__alpha'])\n",
        "print(\"f1_macro score on test set:\", round(f1_grid, 4))\n",
        "\n",
        "# --- Exercise 3: RandomizedSearchCV ---\n",
        "param_dist = {'mnb__alpha': uniform(0, 2.0)}  # ค่า alpha จาก 0 ถึง 2\n",
        "random = RandomizedSearchCV(pipe, param_dist, n_iter=10, cv=5, scoring='f1_macro', random_state=42)\n",
        "random.fit(Xtrain, ytrain)\n",
        "\n",
        "# ทำนายและคำนวณ f1_macro บน test set\n",
        "y_pred_random = random.predict(Xtest)\n",
        "f1_random = f1_score(ytest, y_pred_random, average='macro')\n",
        "\n",
        "print(\"\\n Random Search\")\n",
        "print(\"Best alpha:\", round(random.best_params_['mnb__alpha'], 4))\n",
        "print(\"f1_macro score on test set:\", round(f1_random, 4))"
      ],
      "metadata": {
        "colab": {
          "base_uri": "https://localhost:8080/"
        },
        "id": "b2vRyZBOAYa7",
        "outputId": "9b3f8cd3-bd92-445a-8ab2-a6fc7fb6b5bd"
      },
      "id": "b2vRyZBOAYa7",
      "execution_count": 5,
      "outputs": [
        {
          "output_type": "stream",
          "name": "stdout",
          "text": [
            "Grid Search\n",
            "Best alpha: 0.01\n",
            "f1_macro score on test set: 0.7726\n",
            "\n",
            " Random Search\n",
            "Best alpha: 0.1162\n",
            "f1_macro score on test set: 0.7103\n"
          ]
        }
      ]
    },
    {
      "cell_type": "markdown",
      "source": [
        "## สรุปผล\n",
        "Grid Search ได้ alpha = 0.01 และได้ค่า f1_macro = 0.7726\n",
        "\n",
        "Random Search ได้ alpha ≈ 0.1162 และ f1_macro = 0.7103\n",
        "\n",
        "Grid Search ให้ผลลัพธ์ดีกว่า"
      ],
      "metadata": {
        "id": "qKlqjRCwrPvX"
      },
      "id": "qKlqjRCwrPvX"
    }
  ],
  "metadata": {
    "kernelspec": {
      "display_name": "Python 3 (ipykernel)",
      "language": "python",
      "name": "python3"
    },
    "language_info": {
      "codemirror_mode": {
        "name": "ipython",
        "version": 3
      },
      "file_extension": ".py",
      "mimetype": "text/x-python",
      "name": "python",
      "nbconvert_exporter": "python",
      "pygments_lexer": "ipython3",
      "version": "3.10.12"
    },
    "colab": {
      "provenance": [],
      "include_colab_link": true
    }
  },
  "nbformat": 4,
  "nbformat_minor": 5
}